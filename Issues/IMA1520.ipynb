{
 "cells": [
  {
   "cell_type": "code",
   "execution_count": 1,
   "id": "d937b123",
   "metadata": {},
   "outputs": [
    {
     "name": "stdout",
     "output_type": "stream",
     "text": [
      "Hello, Orca!\n"
     ]
    }
   ],
   "source": [
    "print(\"Hello, Orca!\")"
   ]
  },
  {
   "cell_type": "code",
   "execution_count": 2,
   "id": "7d98b13c",
   "metadata": {},
   "outputs": [],
   "source": [
    "#import pandas\n",
    "import pandas as pd"
   ]
  },
  {
   "cell_type": "code",
   "execution_count": 3,
   "id": "d71b3b40",
   "metadata": {},
   "outputs": [
    {
     "name": "stdout",
     "output_type": "stream",
     "text": [
      "CSV uploaded successfully!\n"
     ]
    }
   ],
   "source": [
    "#20. Display feedback (success, error) after uploading CSV\n",
    "def process_csv(file_path):\n",
    "    try:\n",
    "        df = pd.read_csv(file_path)\n",
    "        # This is where we could clean the data. Also where task 15 would go?\n",
    "        print(\"CSV uploaded successfully!\")\n",
    "    except FileNotFoundError:\n",
    "        print(\"Error: File not found. Please check the file path.\")\n",
    "    except Exception as e:\n",
    "        print(\"Error: File did not upload correctly.\")\n",
    "        \n",
    "file_path = 'set1.csv'\n",
    "process_csv(file_path)\n"
   ]
  },
  {
   "cell_type": "code",
   "execution_count": 4,
   "id": "47657054",
   "metadata": {},
   "outputs": [
    {
     "name": "stdout",
     "output_type": "stream",
     "text": [
      "The dataframe contains the numeric column(s) ['order']\n"
     ]
    }
   ],
   "source": [
    "# 15. Check if numeric category exists in the CSV\n",
    "def numeric(file_path):\n",
    "    try:\n",
    "        df2 = pd.read_csv(file_path)\n",
    "        numeric_cols = df2.select_dtypes(include=['int', 'float']).columns.tolist()\n",
    "        if numeric_cols:\n",
    "            print(\"The dataframe contains the numeric column(s)\", numeric_cols)\n",
    "        else:\n",
    "            print(\"No numeric columns\")\n",
    "    except FileNotFoundError:\n",
    "        print(\"Error: File not found. Please check the file path.\")\n",
    "    except Exception as e:\n",
    "        print(\"Error: File did not upload correctly.\")        \n",
    "path = 'set2.csv'\n",
    "numeric(path)"
   ]
  }
 ],
 "metadata": {
  "kernelspec": {
   "display_name": "Python 3 (ipykernel)",
   "language": "python",
   "name": "python3"
  },
  "language_info": {
   "codemirror_mode": {
    "name": "ipython",
    "version": 3
   },
   "file_extension": ".py",
   "mimetype": "text/x-python",
   "name": "python",
   "nbconvert_exporter": "python",
   "pygments_lexer": "ipython3",
   "version": "3.11.5"
  }
 },
 "nbformat": 4,
 "nbformat_minor": 5
}
