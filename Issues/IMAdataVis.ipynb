{
 "cells": [
  {
   "cell_type": "code",
   "execution_count": 2,
   "id": "ffd8fd05",
   "metadata": {},
   "outputs": [],
   "source": [
    "# data vis in new ntbk"
   ]
  },
  {
   "cell_type": "code",
   "execution_count": 2,
   "id": "6a58350a",
   "metadata": {},
   "outputs": [
    {
     "name": "stdout",
     "output_type": "stream",
     "text": [
      "Error. Install graphviz.\n",
      "Error: File did not upload correctly.\n"
     ]
    }
   ],
   "source": [
    "# Data Visualization\n",
    "try:\n",
    "    import graphviz\n",
    "    from graphviz import Graph\n",
    "except ModuleNotFoundError:\n",
    "    print(\"Error. Install graphviz.\")\n",
    "def graph_vis():\n",
    "    try:\n",
    "        # Instantiate a new Graph object\n",
    "        dot = Graph('Data Science Process', format='png')\n",
    "\n",
    "        # Add nodes\n",
    "        dot.node('A', 'Get Data')\n",
    "        dot.node('B', 'Clean, Prepare, & Manipulate Data')\n",
    "        dot.node('C', 'Train Model')\n",
    "        dot.node('D', 'Test Data')\n",
    "        dot.node('E', 'Improve')\n",
    "\n",
    "        # Connect these nodes\n",
    "        dot.edges(['AB', 'BC', 'CD', 'DE'])\n",
    "\n",
    "        # Save chart\n",
    "        dot.render('data_science_flowchart', view=True)\n",
    "        # Display chart\n",
    "        dot\n",
    "    except ModuleNotFoundError:\n",
    "        print(\"Error. Install graphviz.\")\n",
    "    except Exception as e:\n",
    "        print(\"Error: File did not upload correctly.\") \n",
    "        \n",
    "graph_vis()    "
   ]
  },
  {
   "cell_type": "code",
   "execution_count": 4,
   "id": "2dc5df32",
   "metadata": {},
   "outputs": [
    {
     "name": "stdout",
     "output_type": "stream",
     "text": [
      "st0=>start: start a_pyflow_test\n",
      "op1=>operation: do something\n",
      "cond2=>condition: Yes or No?\n",
      "io3=>inputoutput: output: something...\n",
      "e5=>end: end a_pyflow_test\n",
      "sub4=>subroutine: A Subroutine\n",
      "\n",
      "st0->op1\n",
      "op1->cond2\n",
      "cond2->\n",
      "cond2->\n",
      "cond2(yes)->io3\n",
      "io3->e5\n",
      "cond2(no)->sub4\n",
      "sub4(right)->op1\n",
      "\n"
     ]
    }
   ],
   "source": [
    "from pyflowchart import *\n",
    "st = StartNode('a_pyflow_test')\n",
    "op = OperationNode('do something')\n",
    "cond = ConditionNode('Yes or No?')\n",
    "io = InputOutputNode(InputOutputNode.OUTPUT, 'something...')\n",
    "sub = SubroutineNode('A Subroutine')\n",
    "e = EndNode('a_pyflow_test')\n",
    "\n",
    "st.connect(op)\n",
    "op.connect(cond)\n",
    "cond.connect_yes(io)\n",
    "cond.connect_no(sub)\n",
    "sub.connect(op, \"right\")  # sub->op line starts from the right of sub\n",
    "io.connect(e)\n",
    " \n",
    "fc = Flowchart(st)\n",
    "print(fc.flowchart())"
   ]
  },
  {
   "cell_type": "code",
   "execution_count": null,
   "id": "2512b2ed",
   "metadata": {},
   "outputs": [],
   "source": [
    "output_html('output.html', 'a_pyflow_test', fc.flowchart())"
   ]
  }
 ],
 "metadata": {
  "kernelspec": {
   "display_name": "Python 3 (ipykernel)",
   "language": "python",
   "name": "python3"
  },
  "language_info": {
   "codemirror_mode": {
    "name": "ipython",
    "version": 3
   },
   "file_extension": ".py",
   "mimetype": "text/x-python",
   "name": "python",
   "nbconvert_exporter": "python",
   "pygments_lexer": "ipython3",
   "version": "3.11.5"
  }
 },
 "nbformat": 4,
 "nbformat_minor": 5
}
